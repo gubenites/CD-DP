{
 "cells": [
  {
   "cell_type": "markdown",
   "metadata": {},
   "source": [
    " ___\n",
    "# Atividade: Modelos probabilísticos discretos\n",
    "___\n",
    "\n",
    "## Aula 12\n",
    "\n",
    "**Referência de Leitura:**\n",
    "1. Magalhães e Lima (7ª. Edição): Seções 3.2 e 3.3\n",
    "\n",
    "**Hoje:**\n",
    "1.\tDescrever modelos discretos quanto aos resultados teóricos.\n",
    "2.\tExplicar a utilização de modelos probabilísticos no contexto da literatura estatística.\n",
    "3.\tContrastar resultados teóricos e empíricos.\n",
    "4.\tFechamento do conteúdo.\n",
    "\n",
    "**Próxima aula:**\n",
    "1. Leitura prévia necessária: Magalhães e Lima (7ª. Edição): Capítulo 6 - Seção 6.1.\n",
    "\n",
    "___"
   ]
  },
  {
   "cell_type": "code",
   "execution_count": 57,
   "metadata": {
    "collapsed": true
   },
   "outputs": [],
   "source": [
    "%matplotlib inline\n",
    "import pandas as pd\n",
    "import matplotlib.pyplot as plt\n",
    "\n",
    "from scipy import stats #importa apenas as funções de estatísticas da biblioteca SciPy.\n",
    "import itertools #importante para gerar todos os resultados possíveis!!\n"
   ]
  },
  {
   "cell_type": "markdown",
   "metadata": {},
   "source": [
    "___\n",
    "## <font color='blue'>Exercício 1</font>\n",
    "\n",
    "### <font color='red'>**Publicar no github até dia 10/04 INDIVIDUAL **</font>\n",
    "\n",
    "\n",
    "#### Este exercício irá explorar  construção de árvore de probabilidades com eventos e construção da distribuição de probabilidades de uma variável aleatória discreta. Ainda, irá explorar o modelo de distribuição probabilística Binomial\n",
    "\n",
    "Um resistor de 100K Ohms comprado na Santa Efigênia tem probabilidade de falha de 5%, segundo um fabricante ruim.\n",
    "\n",
    "Ainda, por suposição, admita que os resistores falhem de forma independente entre si.\n",
    "\n",
    "Um aluno de engenharia compra um pacote contendo $n$ resistores.\n",
    "\n",
    "1. Assuma $n=3$ e faça os itens a seguir.\n",
    "  1. Monte o espaço amostral que combine todos os resultados possíveis de Falha e não Falha desses $n$ resistores. Ainda, calcule a probabilidade de cada resultado do espaço amostral acontecer.\n",
    "  2. Se $Y$ representa o número de resistores que falham em um pacotinho com $n$ resistores, então construa a distribuição de probabilidades de $Y$.\n",
    "  3. Calcule a média e o desvio padrão de $Y$. Interprete os resultados.\n",
    "  4. Utilizando o modelo probabilístico da distribuição Binomial, encontre a distribuição de probabilidades de cada possível valor de $Y$. Calcule também $E(Y)$ e $Var(Y)$. Compare com as distribuições de probabilidades obtidas nos itens anteriores e discuta porque esses valores são iguais ou diferentes!\n",
    "   \n",
    "2. Assuma $n=7$ e repita os itens A) a D) anteriores. No caso de $n=7$ ou maiores quantidades de resistores em um pacotinho, qual a viabilidade de construir a distribuição de probabilidades do número de resistores com defeitos quando $n$ não é pequeno seguindo os itens de A) a C)?\n",
    " \n",
    "3. Com $n=100$, por exemplo, é extremamente inviável a construção de árvore de probabilidades até mesmo utilizando a poderosa ferramenta Python. \n",
    "  1. No caso assuma $n=100$ e repita o item 1.D) anterior. \n",
    "  2. Ainda, calcule a probabilidade de, em um pacote com 100 resistores, pelo menos a metade deles apresentarem falha?\n",
    "\n",
    "\n",
    "A seguir, um resumo sobre o modelo teórico Binomial!    \n",
    "> \n",
    "\n",
    "> **DISTRIBUIÇÃO BINOMIAL - TEORIA:**\n",
    "\n",
    "> É responsável por modelar uma variável $Y$ definida pelo Número de sucessos em $n$ tentativas, cuja probabilidade de sucesso é dada por $p$. Assim, dizemos que $Y$~$Bin(n,p)$ e lê-se: $Y$ segue uma distribuição binomial com $n$ tentativas e $p$ como probabilidade de sucesso. \n",
    "\n",
    "> A função de probabilidade nesse caso é dada por:\n",
    "$P(Y=y)=\\left(\n",
    "\\begin{array}{c}\n",
    "    n \\\\\n",
    "    y\n",
    "\\end{array}\\right) p^y (1-p)^{(n-y)}$\n",
    "\n",
    "> Para um experimento ter as probabilidade dos números de sucessos modeladas por uma distribuição Binomial, o mesmo precisa ter as seguintes propriedades:\n",
    "* é uma contagem de $n$ repetições (ou tentativas ou ensaios) idênticas;\n",
    "* cada repetição tem apenas 2 resultados possíveis: um é denominado sucesso e o outro, fracasso;\n",
    "* a probabilidade de sucesso para cada ensaio é denominada $p$ e será constante em cada repetição. Então, a probabilidade de fracasso $(1-p)$ também não varia de tentativa para tentativa;\n",
    "* As tentativas são independentes.\n",
    "\n",
    "\n",
    "> **DISTRIBUIÇÃO BINOMIAL - PYTHON:** <sup> [https://en.wikipedia.org/wiki/SciPy]\n",
    "\n",
    "> Algumas funções úteis para desenvolver seu código: <sup> [http://docs.scipy.org/doc/scipy-0.16.1/reference/generated/scipy.stats.binom.html]\n",
    "* $P(Y=y)$: `stats.binom.pmf(y, n, p)`\n",
    "* $P(Y\\leq y)$: `stats.binom.cdf(y, n, p)`\n",
    "* $E(Y)$ e $Var(Y)$: `stats.binom.stats(n, p, moments='mv')`\n",
    "\n"
   ]
  },
  {
   "cell_type": "markdown",
   "metadata": {},
   "source": [
    "1)A)"
   ]
  },
  {
   "cell_type": "code",
   "execution_count": 58,
   "metadata": {
    "collapsed": true
   },
   "outputs": [],
   "source": [
    "pos = ['S','F']\n",
    "\n",
    "prob = {'S':0.95, 'F':0.05}\n",
    "\n",
    "\n",
    "n_eventos=3\n",
    "\n",
    "arranjo = itertools.product(pos, repeat=n_eventos)\n",
    "\n",
    "#espaço amostral\n",
    "ea = list(arranjo)\n"
   ]
  },
  {
   "cell_type": "code",
   "execution_count": 59,
   "metadata": {},
   "outputs": [
    {
     "name": "stdout",
     "output_type": "stream",
     "text": [
      "Probabilidade de  ('S', 'S', 'S')  eh igual a  0.85737\n",
      "Probabilidade de  ('S', 'S', 'F')  eh igual a  0.04512\n",
      "Probabilidade de  ('S', 'F', 'S')  eh igual a  0.04512\n",
      "Probabilidade de  ('S', 'F', 'F')  eh igual a  0.00238\n",
      "Probabilidade de  ('F', 'S', 'S')  eh igual a  0.04512\n",
      "Probabilidade de  ('F', 'S', 'F')  eh igual a  0.00238\n",
      "Probabilidade de  ('F', 'F', 'S')  eh igual a  0.00238\n",
      "Probabilidade de  ('F', 'F', 'F')  eh igual a  0.00013\n"
     ]
    }
   ],
   "source": [
    "p_l = []\n",
    "for res in ea:\n",
    "    p = 1\n",
    "    for i in res:\n",
    "        p*=prob[i]\n",
    "    p_l.append(p)\n",
    "    print(\"Probabilidade de \",res,\" eh igual a \", \"%3.5f\"%p)"
   ]
  },
  {
   "cell_type": "markdown",
   "metadata": {},
   "source": [
    "B)"
   ]
  },
  {
   "cell_type": "code",
   "execution_count": 60,
   "metadata": {},
   "outputs": [
    {
     "name": "stdout",
     "output_type": "stream",
     "text": [
      "Distribuição de probabilidades da variável aleatória $X$ - falhas\n",
      "\n",
      "Falha:  0  Probabilidade 0.85737 \n",
      "Falha:  1  Probabilidade 0.13537 \n",
      "Falha:  2  Probabilidade 0.00713 \n",
      "Falha:  3  Probabilidade 0.00013 \n"
     ]
    }
   ],
   "source": [
    "v_y = {}\n",
    "\n",
    "for i in range(len(ea)):\n",
    "    y = ea[i].count('F')\n",
    "    \n",
    "    if y in v_y:\n",
    "        v_y[y] += p_l[i]\n",
    "    else:\n",
    "        v_y[y] = p_l[i]\n",
    "    \n",
    "print(\"Distribuição de probabilidades da variável aleatória $X$ - falhas\")\n",
    "print('')\n",
    "for y in v_y:\n",
    "    print(\"Falha: \", y, \" Probabilidade\", \"%6.5f \"%v_y[y])"
   ]
  },
  {
   "cell_type": "markdown",
   "metadata": {},
   "source": [
    "C)"
   ]
  },
  {
   "cell_type": "code",
   "execution_count": 61,
   "metadata": {},
   "outputs": [
    {
     "name": "stdout",
     "output_type": "stream",
     "text": [
      "Media: 0.15002\n",
      "Desvio padrao: 0.37756323920636126\n"
     ]
    }
   ],
   "source": [
    "\n",
    "My = (0*0.85737)+(1*0.13537)+(2*0.00713)+(3*0.00013 )\n",
    "\n",
    "print('Media: {0}'.format(My))\n",
    "\n",
    "Vy = 0.85737*((0-0.15002)**(2)) + 0.13537 *((1-0.15002)**(2)) + 0.00713 *((2-0.15002)**(2)) + 0.00013 *((3-0.15002)**(2))\n",
    "\n",
    "Dpy = Vy**(1/2)\n",
    "\n",
    "print('Desvio padrao: {0}'.format(Dpy))"
   ]
  },
  {
   "cell_type": "markdown",
   "metadata": {},
   "source": [
    "D)"
   ]
  },
  {
   "cell_type": "code",
   "execution_count": 62,
   "metadata": {
    "collapsed": true
   },
   "outputs": [],
   "source": [
    "\n",
    "numero_a=3\n",
    "\n",
    "falha=0.05\n",
    " \n",
    "y= range(0,4)\n"
   ]
  },
  {
   "cell_type": "code",
   "execution_count": 63,
   "metadata": {},
   "outputs": [
    {
     "name": "stdout",
     "output_type": "stream",
     "text": [
      "Probabilidade:\n",
      "0.857375\n",
      "Probabilidade:\n",
      "0.135375\n",
      "Probabilidade:\n",
      "0.007125\n",
      "Probabilidade:\n",
      "0.000125\n"
     ]
    }
   ],
   "source": [
    "for i in range(4):\n",
    "    print('Probabilidade:')\n",
    "    print(stats.binom.pmf(i, numero_a, falha))"
   ]
  },
  {
   "cell_type": "code",
   "execution_count": 64,
   "metadata": {},
   "outputs": [
    {
     "name": "stdout",
     "output_type": "stream",
     "text": [
      "(array(0.15000000000000002), array(0.14250000000000002))\n"
     ]
    }
   ],
   "source": [
    "#E(Y)E(Y) e Var(Y)Var(Y):\n",
    "print(stats.binom.stats(numero_a, falha, moments='mv'))"
   ]
  },
  {
   "cell_type": "markdown",
   "metadata": {},
   "source": [
    "2)A)"
   ]
  },
  {
   "cell_type": "code",
   "execution_count": 65,
   "metadata": {
    "collapsed": true,
    "scrolled": true
   },
   "outputs": [],
   "source": [
    "possibilidades = ['S','F']\n",
    "probabilidade = {'S':0.95, 'F':0.05}\n",
    "\n",
    "n_eventos=7\n",
    "\n",
    "arranjo = itertools.product(possibilidades, repeat=n_eventos)\n",
    "#espacoamostral\n",
    "ea = list(arranjo)"
   ]
  },
  {
   "cell_type": "code",
   "execution_count": 66,
   "metadata": {},
   "outputs": [
    {
     "name": "stdout",
     "output_type": "stream",
     "text": [
      "Probabilidade de  ('S', 'S', 'S', 'S', 'S', 'S', 'S')  eh igual a  0.69834\n",
      "Probabilidade de  ('S', 'S', 'S', 'S', 'S', 'S', 'F')  eh igual a  0.03675\n",
      "Probabilidade de  ('S', 'S', 'S', 'S', 'S', 'F', 'S')  eh igual a  0.03675\n",
      "Probabilidade de  ('S', 'S', 'S', 'S', 'S', 'F', 'F')  eh igual a  0.00193\n",
      "Probabilidade de  ('S', 'S', 'S', 'S', 'F', 'S', 'S')  eh igual a  0.03675\n",
      "Probabilidade de  ('S', 'S', 'S', 'S', 'F', 'S', 'F')  eh igual a  0.00193\n",
      "Probabilidade de  ('S', 'S', 'S', 'S', 'F', 'F', 'S')  eh igual a  0.00193\n",
      "Probabilidade de  ('S', 'S', 'S', 'S', 'F', 'F', 'F')  eh igual a  0.00010\n",
      "Probabilidade de  ('S', 'S', 'S', 'F', 'S', 'S', 'S')  eh igual a  0.03675\n",
      "Probabilidade de  ('S', 'S', 'S', 'F', 'S', 'S', 'F')  eh igual a  0.00193\n",
      "Probabilidade de  ('S', 'S', 'S', 'F', 'S', 'F', 'S')  eh igual a  0.00193\n",
      "Probabilidade de  ('S', 'S', 'S', 'F', 'S', 'F', 'F')  eh igual a  0.00010\n",
      "Probabilidade de  ('S', 'S', 'S', 'F', 'F', 'S', 'S')  eh igual a  0.00193\n",
      "Probabilidade de  ('S', 'S', 'S', 'F', 'F', 'S', 'F')  eh igual a  0.00010\n",
      "Probabilidade de  ('S', 'S', 'S', 'F', 'F', 'F', 'S')  eh igual a  0.00010\n",
      "Probabilidade de  ('S', 'S', 'S', 'F', 'F', 'F', 'F')  eh igual a  0.00001\n",
      "Probabilidade de  ('S', 'S', 'F', 'S', 'S', 'S', 'S')  eh igual a  0.03675\n",
      "Probabilidade de  ('S', 'S', 'F', 'S', 'S', 'S', 'F')  eh igual a  0.00193\n",
      "Probabilidade de  ('S', 'S', 'F', 'S', 'S', 'F', 'S')  eh igual a  0.00193\n",
      "Probabilidade de  ('S', 'S', 'F', 'S', 'S', 'F', 'F')  eh igual a  0.00010\n",
      "Probabilidade de  ('S', 'S', 'F', 'S', 'F', 'S', 'S')  eh igual a  0.00193\n",
      "Probabilidade de  ('S', 'S', 'F', 'S', 'F', 'S', 'F')  eh igual a  0.00010\n",
      "Probabilidade de  ('S', 'S', 'F', 'S', 'F', 'F', 'S')  eh igual a  0.00010\n",
      "Probabilidade de  ('S', 'S', 'F', 'S', 'F', 'F', 'F')  eh igual a  0.00001\n",
      "Probabilidade de  ('S', 'S', 'F', 'F', 'S', 'S', 'S')  eh igual a  0.00193\n",
      "Probabilidade de  ('S', 'S', 'F', 'F', 'S', 'S', 'F')  eh igual a  0.00010\n",
      "Probabilidade de  ('S', 'S', 'F', 'F', 'S', 'F', 'S')  eh igual a  0.00010\n",
      "Probabilidade de  ('S', 'S', 'F', 'F', 'S', 'F', 'F')  eh igual a  0.00001\n",
      "Probabilidade de  ('S', 'S', 'F', 'F', 'F', 'S', 'S')  eh igual a  0.00010\n",
      "Probabilidade de  ('S', 'S', 'F', 'F', 'F', 'S', 'F')  eh igual a  0.00001\n",
      "Probabilidade de  ('S', 'S', 'F', 'F', 'F', 'F', 'S')  eh igual a  0.00001\n",
      "Probabilidade de  ('S', 'S', 'F', 'F', 'F', 'F', 'F')  eh igual a  0.00000\n",
      "Probabilidade de  ('S', 'F', 'S', 'S', 'S', 'S', 'S')  eh igual a  0.03675\n",
      "Probabilidade de  ('S', 'F', 'S', 'S', 'S', 'S', 'F')  eh igual a  0.00193\n",
      "Probabilidade de  ('S', 'F', 'S', 'S', 'S', 'F', 'S')  eh igual a  0.00193\n",
      "Probabilidade de  ('S', 'F', 'S', 'S', 'S', 'F', 'F')  eh igual a  0.00010\n",
      "Probabilidade de  ('S', 'F', 'S', 'S', 'F', 'S', 'S')  eh igual a  0.00193\n",
      "Probabilidade de  ('S', 'F', 'S', 'S', 'F', 'S', 'F')  eh igual a  0.00010\n",
      "Probabilidade de  ('S', 'F', 'S', 'S', 'F', 'F', 'S')  eh igual a  0.00010\n",
      "Probabilidade de  ('S', 'F', 'S', 'S', 'F', 'F', 'F')  eh igual a  0.00001\n",
      "Probabilidade de  ('S', 'F', 'S', 'F', 'S', 'S', 'S')  eh igual a  0.00193\n",
      "Probabilidade de  ('S', 'F', 'S', 'F', 'S', 'S', 'F')  eh igual a  0.00010\n",
      "Probabilidade de  ('S', 'F', 'S', 'F', 'S', 'F', 'S')  eh igual a  0.00010\n",
      "Probabilidade de  ('S', 'F', 'S', 'F', 'S', 'F', 'F')  eh igual a  0.00001\n",
      "Probabilidade de  ('S', 'F', 'S', 'F', 'F', 'S', 'S')  eh igual a  0.00010\n",
      "Probabilidade de  ('S', 'F', 'S', 'F', 'F', 'S', 'F')  eh igual a  0.00001\n",
      "Probabilidade de  ('S', 'F', 'S', 'F', 'F', 'F', 'S')  eh igual a  0.00001\n",
      "Probabilidade de  ('S', 'F', 'S', 'F', 'F', 'F', 'F')  eh igual a  0.00000\n",
      "Probabilidade de  ('S', 'F', 'F', 'S', 'S', 'S', 'S')  eh igual a  0.00193\n",
      "Probabilidade de  ('S', 'F', 'F', 'S', 'S', 'S', 'F')  eh igual a  0.00010\n",
      "Probabilidade de  ('S', 'F', 'F', 'S', 'S', 'F', 'S')  eh igual a  0.00010\n",
      "Probabilidade de  ('S', 'F', 'F', 'S', 'S', 'F', 'F')  eh igual a  0.00001\n",
      "Probabilidade de  ('S', 'F', 'F', 'S', 'F', 'S', 'S')  eh igual a  0.00010\n",
      "Probabilidade de  ('S', 'F', 'F', 'S', 'F', 'S', 'F')  eh igual a  0.00001\n",
      "Probabilidade de  ('S', 'F', 'F', 'S', 'F', 'F', 'S')  eh igual a  0.00001\n",
      "Probabilidade de  ('S', 'F', 'F', 'S', 'F', 'F', 'F')  eh igual a  0.00000\n",
      "Probabilidade de  ('S', 'F', 'F', 'F', 'S', 'S', 'S')  eh igual a  0.00010\n",
      "Probabilidade de  ('S', 'F', 'F', 'F', 'S', 'S', 'F')  eh igual a  0.00001\n",
      "Probabilidade de  ('S', 'F', 'F', 'F', 'S', 'F', 'S')  eh igual a  0.00001\n",
      "Probabilidade de  ('S', 'F', 'F', 'F', 'S', 'F', 'F')  eh igual a  0.00000\n",
      "Probabilidade de  ('S', 'F', 'F', 'F', 'F', 'S', 'S')  eh igual a  0.00001\n",
      "Probabilidade de  ('S', 'F', 'F', 'F', 'F', 'S', 'F')  eh igual a  0.00000\n",
      "Probabilidade de  ('S', 'F', 'F', 'F', 'F', 'F', 'S')  eh igual a  0.00000\n",
      "Probabilidade de  ('S', 'F', 'F', 'F', 'F', 'F', 'F')  eh igual a  0.00000\n",
      "Probabilidade de  ('F', 'S', 'S', 'S', 'S', 'S', 'S')  eh igual a  0.03675\n",
      "Probabilidade de  ('F', 'S', 'S', 'S', 'S', 'S', 'F')  eh igual a  0.00193\n",
      "Probabilidade de  ('F', 'S', 'S', 'S', 'S', 'F', 'S')  eh igual a  0.00193\n",
      "Probabilidade de  ('F', 'S', 'S', 'S', 'S', 'F', 'F')  eh igual a  0.00010\n",
      "Probabilidade de  ('F', 'S', 'S', 'S', 'F', 'S', 'S')  eh igual a  0.00193\n",
      "Probabilidade de  ('F', 'S', 'S', 'S', 'F', 'S', 'F')  eh igual a  0.00010\n",
      "Probabilidade de  ('F', 'S', 'S', 'S', 'F', 'F', 'S')  eh igual a  0.00010\n",
      "Probabilidade de  ('F', 'S', 'S', 'S', 'F', 'F', 'F')  eh igual a  0.00001\n",
      "Probabilidade de  ('F', 'S', 'S', 'F', 'S', 'S', 'S')  eh igual a  0.00193\n",
      "Probabilidade de  ('F', 'S', 'S', 'F', 'S', 'S', 'F')  eh igual a  0.00010\n",
      "Probabilidade de  ('F', 'S', 'S', 'F', 'S', 'F', 'S')  eh igual a  0.00010\n",
      "Probabilidade de  ('F', 'S', 'S', 'F', 'S', 'F', 'F')  eh igual a  0.00001\n",
      "Probabilidade de  ('F', 'S', 'S', 'F', 'F', 'S', 'S')  eh igual a  0.00010\n",
      "Probabilidade de  ('F', 'S', 'S', 'F', 'F', 'S', 'F')  eh igual a  0.00001\n",
      "Probabilidade de  ('F', 'S', 'S', 'F', 'F', 'F', 'S')  eh igual a  0.00001\n",
      "Probabilidade de  ('F', 'S', 'S', 'F', 'F', 'F', 'F')  eh igual a  0.00000\n",
      "Probabilidade de  ('F', 'S', 'F', 'S', 'S', 'S', 'S')  eh igual a  0.00193\n",
      "Probabilidade de  ('F', 'S', 'F', 'S', 'S', 'S', 'F')  eh igual a  0.00010\n",
      "Probabilidade de  ('F', 'S', 'F', 'S', 'S', 'F', 'S')  eh igual a  0.00010\n",
      "Probabilidade de  ('F', 'S', 'F', 'S', 'S', 'F', 'F')  eh igual a  0.00001\n",
      "Probabilidade de  ('F', 'S', 'F', 'S', 'F', 'S', 'S')  eh igual a  0.00010\n",
      "Probabilidade de  ('F', 'S', 'F', 'S', 'F', 'S', 'F')  eh igual a  0.00001\n",
      "Probabilidade de  ('F', 'S', 'F', 'S', 'F', 'F', 'S')  eh igual a  0.00001\n",
      "Probabilidade de  ('F', 'S', 'F', 'S', 'F', 'F', 'F')  eh igual a  0.00000\n",
      "Probabilidade de  ('F', 'S', 'F', 'F', 'S', 'S', 'S')  eh igual a  0.00010\n",
      "Probabilidade de  ('F', 'S', 'F', 'F', 'S', 'S', 'F')  eh igual a  0.00001\n",
      "Probabilidade de  ('F', 'S', 'F', 'F', 'S', 'F', 'S')  eh igual a  0.00001\n",
      "Probabilidade de  ('F', 'S', 'F', 'F', 'S', 'F', 'F')  eh igual a  0.00000\n",
      "Probabilidade de  ('F', 'S', 'F', 'F', 'F', 'S', 'S')  eh igual a  0.00001\n",
      "Probabilidade de  ('F', 'S', 'F', 'F', 'F', 'S', 'F')  eh igual a  0.00000\n",
      "Probabilidade de  ('F', 'S', 'F', 'F', 'F', 'F', 'S')  eh igual a  0.00000\n",
      "Probabilidade de  ('F', 'S', 'F', 'F', 'F', 'F', 'F')  eh igual a  0.00000\n",
      "Probabilidade de  ('F', 'F', 'S', 'S', 'S', 'S', 'S')  eh igual a  0.00193\n",
      "Probabilidade de  ('F', 'F', 'S', 'S', 'S', 'S', 'F')  eh igual a  0.00010\n",
      "Probabilidade de  ('F', 'F', 'S', 'S', 'S', 'F', 'S')  eh igual a  0.00010\n",
      "Probabilidade de  ('F', 'F', 'S', 'S', 'S', 'F', 'F')  eh igual a  0.00001\n",
      "Probabilidade de  ('F', 'F', 'S', 'S', 'F', 'S', 'S')  eh igual a  0.00010\n",
      "Probabilidade de  ('F', 'F', 'S', 'S', 'F', 'S', 'F')  eh igual a  0.00001\n",
      "Probabilidade de  ('F', 'F', 'S', 'S', 'F', 'F', 'S')  eh igual a  0.00001\n",
      "Probabilidade de  ('F', 'F', 'S', 'S', 'F', 'F', 'F')  eh igual a  0.00000\n",
      "Probabilidade de  ('F', 'F', 'S', 'F', 'S', 'S', 'S')  eh igual a  0.00010\n",
      "Probabilidade de  ('F', 'F', 'S', 'F', 'S', 'S', 'F')  eh igual a  0.00001\n",
      "Probabilidade de  ('F', 'F', 'S', 'F', 'S', 'F', 'S')  eh igual a  0.00001\n",
      "Probabilidade de  ('F', 'F', 'S', 'F', 'S', 'F', 'F')  eh igual a  0.00000\n",
      "Probabilidade de  ('F', 'F', 'S', 'F', 'F', 'S', 'S')  eh igual a  0.00001\n",
      "Probabilidade de  ('F', 'F', 'S', 'F', 'F', 'S', 'F')  eh igual a  0.00000\n",
      "Probabilidade de  ('F', 'F', 'S', 'F', 'F', 'F', 'S')  eh igual a  0.00000\n",
      "Probabilidade de  ('F', 'F', 'S', 'F', 'F', 'F', 'F')  eh igual a  0.00000\n",
      "Probabilidade de  ('F', 'F', 'F', 'S', 'S', 'S', 'S')  eh igual a  0.00010\n",
      "Probabilidade de  ('F', 'F', 'F', 'S', 'S', 'S', 'F')  eh igual a  0.00001\n",
      "Probabilidade de  ('F', 'F', 'F', 'S', 'S', 'F', 'S')  eh igual a  0.00001\n",
      "Probabilidade de  ('F', 'F', 'F', 'S', 'S', 'F', 'F')  eh igual a  0.00000\n",
      "Probabilidade de  ('F', 'F', 'F', 'S', 'F', 'S', 'S')  eh igual a  0.00001\n",
      "Probabilidade de  ('F', 'F', 'F', 'S', 'F', 'S', 'F')  eh igual a  0.00000\n",
      "Probabilidade de  ('F', 'F', 'F', 'S', 'F', 'F', 'S')  eh igual a  0.00000\n",
      "Probabilidade de  ('F', 'F', 'F', 'S', 'F', 'F', 'F')  eh igual a  0.00000\n",
      "Probabilidade de  ('F', 'F', 'F', 'F', 'S', 'S', 'S')  eh igual a  0.00001\n",
      "Probabilidade de  ('F', 'F', 'F', 'F', 'S', 'S', 'F')  eh igual a  0.00000\n",
      "Probabilidade de  ('F', 'F', 'F', 'F', 'S', 'F', 'S')  eh igual a  0.00000\n",
      "Probabilidade de  ('F', 'F', 'F', 'F', 'S', 'F', 'F')  eh igual a  0.00000\n",
      "Probabilidade de  ('F', 'F', 'F', 'F', 'F', 'S', 'S')  eh igual a  0.00000\n",
      "Probabilidade de  ('F', 'F', 'F', 'F', 'F', 'S', 'F')  eh igual a  0.00000\n",
      "Probabilidade de  ('F', 'F', 'F', 'F', 'F', 'F', 'S')  eh igual a  0.00000\n",
      "Probabilidade de  ('F', 'F', 'F', 'F', 'F', 'F', 'F')  eh igual a  0.00000\n"
     ]
    }
   ],
   "source": [
    "\n",
    "prob_l = []\n",
    "\n",
    "for res in ea:\n",
    "    p = 1\n",
    "    for i in res:\n",
    "        p*=prob[i]\n",
    "    prob_l.append(p)\n",
    "    print(\"Probabilidade de \",res,\" eh igual a \", \"%3.5f\"%p)"
   ]
  },
  {
   "cell_type": "markdown",
   "metadata": {},
   "source": [
    "B)"
   ]
  },
  {
   "cell_type": "code",
   "execution_count": 67,
   "metadata": {},
   "outputs": [
    {
     "name": "stdout",
     "output_type": "stream",
     "text": [
      "Distribuição de probabilidades da variável aleatória $X$ - falhas\n",
      "\n",
      "Falha:  0  Probabilidade 0.69834 \n",
      "Falha:  1  Probabilidade 0.25728 \n",
      "Falha:  2  Probabilidade 0.04062 \n",
      "Falha:  3  Probabilidade 0.00356 \n",
      "Falha:  4  Probabilidade 0.00019 \n",
      "Falha:  5  Probabilidade 0.00001 \n",
      "Falha:  6  Probabilidade 0.00000 \n",
      "Falha:  7  Probabilidade 0.00000 \n"
     ]
    }
   ],
   "source": [
    "val_y = {}\n",
    "\n",
    "for i in range(len(ea)):\n",
    "    y = ea[i].count('F')\n",
    "    \n",
    "    if y in val_y:\n",
    "        val_y[y] += prob_l[i]\n",
    "    else:\n",
    "        val_y[y] = prob_l[i]\n",
    "    \n",
    "print(\"Distribuição de probabilidades da variável aleatória $X$ - falhas\")\n",
    "print('')\n",
    "for y in val_y:\n",
    "    print(\"Falha: \", y, \" Probabilidade\", \"%6.5f \"%valores_Y[y])"
   ]
  },
  {
   "cell_type": "markdown",
   "metadata": {},
   "source": [
    "C)"
   ]
  },
  {
   "cell_type": "code",
   "execution_count": 68,
   "metadata": {},
   "outputs": [
    {
     "name": "stdout",
     "output_type": "stream",
     "text": [
      "Media: 0.35001000000000004\n",
      "Desvio padrao: 0.37756323920636126\n"
     ]
    }
   ],
   "source": [
    "a = 0.85737*((0-0.15002)**(2))\n",
    "b = 0.13537 *((1-0.15002)**(2))\n",
    "c = 0.00713 *((2-0.15002)**(2))\n",
    "d = 0.00013 *((3-0.15002)**(2))\n",
    "\n",
    "my = (0*0.69834)+(1*0.25728 )+(2*0.04062)+(3*0.00356 )+(4*0.00019)+(5*0.00001)+(6*0)+(7*0)\n",
    "print('Media: {0}'.format(my))\n",
    "vy = a + b + c + d\n",
    "desv_y = vy**(1/2)\n",
    "print('Desvio padrao: {0}'.format(desv_y))"
   ]
  },
  {
   "cell_type": "markdown",
   "metadata": {},
   "source": [
    "D)"
   ]
  },
  {
   "cell_type": "code",
   "execution_count": 69,
   "metadata": {},
   "outputs": [
    {
     "name": "stdout",
     "output_type": "stream",
     "text": [
      "A probabilidade é:0.69833729609375\n",
      "A probabilidade é:0.2572821617187501\n",
      "A probabilidade é:0.04062349921875004\n",
      "A probabilidade é:0.00356346484375\n",
      "A probabilidade é:0.00018755078124999986\n",
      "A probabilidade é:5.922656250000019e-06\n",
      "A probabilidade é:1.0390624999999968e-07\n"
     ]
    }
   ],
   "source": [
    "tot=7\n",
    "falha=0.05\n",
    "for i in range(7):\n",
    "    y = stats.binom.pmf(i, tot, falha)\n",
    "    print('A probabilidade é:{0}'.format(y))   "
   ]
  },
  {
   "cell_type": "code",
   "execution_count": 70,
   "metadata": {},
   "outputs": [
    {
     "name": "stdout",
     "output_type": "stream",
     "text": [
      "(array(5.468750000000002e-09), array(5.4687499957275416e-09))\n"
     ]
    }
   ],
   "source": [
    "#var e esperança usando binomial\n",
    "#E(Y)E(Y)  e  Var(Y)Var(Y):\n",
    "print(stats.binom.stats(n, p, moments='mv'))"
   ]
  },
  {
   "cell_type": "markdown",
   "metadata": {},
   "source": [
    "3)A)"
   ]
  },
  {
   "cell_type": "code",
   "execution_count": 71,
   "metadata": {},
   "outputs": [
    {
     "name": "stdout",
     "output_type": "stream",
     "text": [
      "A probabilidade é:0.005920529220334023\n",
      "A probabilidade é:0.031160680107020593\n",
      "A probabilidade é:0.08118177185776551\n",
      "A probabilidade é:0.1395756779308903\n",
      "A probabilidade é:0.17814264156968956\n",
      "A probabilidade é:0.18001782727043672\n",
      "A probabilidade é:0.15001485605869255\n",
      "A probabilidade é:0.10602553736478391\n",
      "A probabilidade é:0.06487088799292766\n",
      "A probabilidade é:0.034901296464031804\n",
      "A probabilidade é:0.016715884095931225\n",
      "A probabilidade é:0.007198227601119233\n",
      "A probabilidade é:0.0028098344583314945\n",
      "A probabilidade é:0.001001074624830605\n",
      "A probabilidade é:0.00032741914421153287\n",
      "A probabilidade é:9.880016281470898e-05\n",
      "A probabilidade é:2.762504552384916e-05\n",
      "A probabilidade é:7.184222365335237e-06\n",
      "A probabilidade é:1.7435393459730753e-06\n",
      "A probabilidade é:3.960394082265668e-07\n",
      "A probabilidade é:8.441892649039948e-08\n",
      "A probabilidade é:1.6926100549455788e-08\n",
      "A probabilidade é:3.1989520177198604e-09\n",
      "A probabilidade é:5.709799940094749e-10\n",
      "A probabilidade é:9.641548144458742e-11\n",
      "A probabilidade é:1.5426477031134177e-11\n",
      "A probabilidade é:2.342076472338194e-12\n",
      "A probabilidade é:3.378433897719589e-13\n",
      "A probabilidade é:4.635820949878521e-14\n",
      "A probabilidade é:6.057697066992019e-15\n",
      "A probabilidade é:7.545552486954989e-16\n",
      "A probabilidade é:8.967549644937655e-17\n",
      "A probabilidade é:1.0176988906261349e-17\n",
      "A probabilidade é:1.103724474682234e-18\n",
      "A probabilidade é:1.1447297183237642e-19\n",
      "A probabilidade é:1.136122727960414e-20\n",
      "A probabilidade é:1.0796487911904692e-21\n",
      "A probabilidade é:9.828950588362538e-23\n",
      "A probabilidade é:8.57650813111966e-24\n",
      "A probabilidade é:7.176025696753232e-25\n",
      "A probabilidade é:5.759704835551648e-26\n",
      "A probabilidade é:4.4362296551107064e-27\n",
      "A probabilidade é:3.2799191685654777e-28\n",
      "A probabilidade é:2.3284615884552994e-29\n",
      "A probabilidade é:1.5875874466740437e-30\n",
      "A probabilidade é:1.0398233568858872e-31\n",
      "A probabilidade é:6.54351082708553e-33\n",
      "A probabilidade é:3.9568822470616705e-34\n",
      "A probabilidade é:2.2995039374371777e-35\n",
      "A probabilidade é:1.2843631014686863e-36\n",
      "A probabilidade é:6.895001913147869e-38\n",
      "A probabilidade é:3.557792524843995e-39\n",
      "A probabilidade é:1.7644922441027892e-40\n",
      "A probabilidade é:8.41068795600115e-42\n",
      "A probabilidade é:3.852849258597185e-43\n",
      "A probabilidade é:1.6959910612005348e-44\n",
      "A probabilidade é:7.172894525754572e-46\n",
      "A probabilidade é:2.91419537519114e-47\n",
      "A probabilidade é:1.1371179776154448e-48\n",
      "A probabilidade é:4.260388497756382e-50\n",
      "A probabilidade é:1.532244986035074e-51\n",
      "A probabilidade é:5.288162160604584e-53\n",
      "A probabilidade é:1.750749781524447e-54\n",
      "A probabilidade é:5.557935814363231e-56\n",
      "A probabilidade é:1.6911482329888526e-57\n",
      "A probabilidade é:4.929662865392653e-59\n",
      "A probabilidade é:1.375902713626292e-60\n",
      "A probabilidade é:3.6748383553253443e-62\n",
      "A probabilidade é:9.386197037596014e-64\n",
      "A probabilidade é:2.2910625873613365e-65\n",
      "A probabilidade é:5.340070692346171e-67\n",
      "A probabilidade é:1.187562051670742e-68\n",
      "A probabilidade é:2.5174926533955918e-70\n",
      "A probabilidade é:5.082176949897133e-72\n",
      "A probabilidade é:9.759514768650905e-74\n",
      "A probabilidade é:1.7806833963854476e-75\n",
      "A probabilidade é:3.0829006170107685e-77\n",
      "A probabilidade é:5.0573899390468665e-79\n",
      "A probabilidade é:7.848850782596402e-81\n",
      "A probabilidade é:1.1503978495478774e-82\n",
      "A probabilidade é:1.589365450033029e-84\n",
      "A probabilidade é:2.0654521767810498e-86\n",
      "A probabilidade é:2.518844118025753e-88\n",
      "A probabilidade é:2.8750281626167197e-90\n",
      "A probabilidade é:3.0623733561708156e-92\n",
      "A probabilidade é:3.033930259983407e-94\n",
      "A probabilidade é:2.785125697659298e-96\n",
      "A probabilidade é:2.358848140788049e-98\n",
      "A probabilidade é:1.8340326453496333e-100\n",
      "A probabilidade é:1.3015015815610362e-102\n",
      "A probabilidade é:8.372232396005955e-105\n",
      "A probabilidade é:4.842239673803371e-107\n",
      "A probabilidade é:2.4931439968094557e-109\n",
      "A probabilidade é:1.128757893292352e-111\n",
      "A probabilidade é:4.424023098010564e-114\n",
      "A probabilidade é:1.4705893954605658e-116\n",
      "A probabilidade é:4.031220930538608e-119\n",
      "A probabilidade é:8.749258666388875e-122\n",
      "A probabilidade é:1.40965499458467e-124\n",
      "A probabilidade é:1.4988357199199091e-127\n"
     ]
    }
   ],
   "source": [
    "\n",
    "total=100\n",
    "\n",
    "falha=0.05\n",
    "\n",
    "for i in range(100):\n",
    "    x= stats.binom.pmf(i, total, falha)\n",
    "    print('A probabilidade é:{0}'.format(x))\n",
    "    "
   ]
  },
  {
   "cell_type": "code",
   "execution_count": 72,
   "metadata": {},
   "outputs": [
    {
     "name": "stdout",
     "output_type": "stream",
     "text": [
      "(array(5.0), array(4.75))\n"
     ]
    }
   ],
   "source": [
    "\n",
    "#E(Y)E(Y)  e  Var(Y)Var(Y):\n",
    "print(stats.binom.stats(total, falha, moments='mv'))"
   ]
  },
  {
   "cell_type": "markdown",
   "metadata": {},
   "source": [
    "B)"
   ]
  },
  {
   "cell_type": "code",
   "execution_count": 73,
   "metadata": {
    "scrolled": true
   },
   "outputs": [
    {
     "name": "stdout",
     "output_type": "stream",
     "text": [
      "Em 100 a probabilidade de 50 estarem com falhas é: 1.1102230246251565e-16\n"
     ]
    }
   ],
   "source": [
    "\n",
    "total = 100\n",
    "falha = 0.05\n",
    "cont = 49\n",
    "print('Em 100 a probabilidade de 50 estarem com falhas é: {0}'.format(1-stats.binom.cdf(cont, total, falha)))"
   ]
  },
  {
   "cell_type": "markdown",
   "metadata": {
    "collapsed": true
   },
   "source": [
    "___\n",
    "## <font color='blue'>Exercício 2</font>\n",
    "\n",
    "Esse exercício irá explorar modelos de distribuição de Poisson.\n",
    "\n",
    "Uma fábrica produz determinado veículo. O gerente de vendas fechou um negócio que implica na produção de pelo menos 110 unidades nos próximos dois meses. Para isso, será construída uma nova linha de montagem com capacidade para produzir em média 50 veículos por mês (considere meses de 30 dias). A linha funcionará ininterruptamente. Além disso, apenas um veículo é produzido por vez. Considere que um modelo Poisson seja adequado para a quantidade de veículos produzidos.\n",
    "   1. Qual a probabilidade  da produção ser igual a 100 veículos nos próximos dois meses?\n",
    "   2. Qual a probabilidade  da produção ser de pelo menos 100 veículos nos próximos dois meses?\n",
    "   3. Qual a probabilidade da produção ser entre 100 e 110 veículos nos próximos dois meses?\n",
    "   4. Se forem produzidos de pelo menos 100 veículos no próximo mês, qual a probabilidade do gerente cumprir a meta negociada?\n",
    "   5. Caso o prazo seja cumprido, o lucro será da ordem de $250$ mil, caso não seja, o lucro cai para $200$ mil. Qual é o lucro esperado e seu desvio-padrão?\n",
    "\n",
    "**Observação:** Explore os comandos de `stats.poisson`. <sup>[http://docs.scipy.org/doc/scipy/reference/generated/scipy.stats.poisson.html]\n"
   ]
  },
  {
   "cell_type": "code",
   "execution_count": null,
   "metadata": {
    "collapsed": true
   },
   "outputs": [],
   "source": []
  }
 ],
 "metadata": {
  "anaconda-cloud": {},
  "kernelspec": {
   "display_name": "Python 3",
   "language": "python",
   "name": "python3"
  },
  "language_info": {
   "codemirror_mode": {
    "name": "ipython",
    "version": 3
   },
   "file_extension": ".py",
   "mimetype": "text/x-python",
   "name": "python",
   "nbconvert_exporter": "python",
   "pygments_lexer": "ipython3",
   "version": "3.6.3"
  }
 },
 "nbformat": 4,
 "nbformat_minor": 1
}
