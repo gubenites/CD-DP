{
 "cells": [
  {
   "cell_type": "markdown",
   "metadata": {},
   "source": [
    "___\n",
    "# Ciência dos Dados - PROJETO 1"
   ]
  },
  {
   "cell_type": "markdown",
   "metadata": {},
   "source": [
    "## Gustavo Molina Freneda Benites\n"
   ]
  },
  {
   "cell_type": "markdown",
   "metadata": {},
   "source": [
    "## O que influencia na idade de inicio de trabalho das crianças de 5-17 anos?"
   ]
  },
  {
   "cell_type": "markdown",
   "metadata": {},
   "source": [
    "___\n",
    "## Introdução\n",
    "\n",
    "A partir da manipulação dos dados fornecidos, meu projeto visa mostrar como é a distribuição de crianças entre 5-17 anos que trabalham no Brasil(dividido por região:Norte,Sul,Sudeste,Norte e Nordeste) assim como mostrar a relação do trabalho infantil com a escolaridade das mesmas:publica ou privada, tentando então, provar que crianças de escola publica tendem a procurar mais por empregos do que crianças de escola privada.\n",
    "Analisar em função da renda, horas de trabalho e escolaridade como os mesmos influenciam no trabalho das pessoas no Brasil\n"
   ]
  },
  {
   "cell_type": "markdown",
   "metadata": {},
   "source": [
    "___\n",
    "## Filtros da base de dados"
   ]
  },
  {
   "cell_type": "code",
   "execution_count": 16,
   "metadata": {
    "collapsed": true
   },
   "outputs": [],
   "source": [
    "%matplotlib inline\n",
    "import pandas as pd\n",
    "import matplotlib.pyplot as plt\n",
    "import numpy as np\n",
    "import os\n",
    "from numpy import arange\n"
   ]
  },
  {
   "cell_type": "code",
   "execution_count": 17,
   "metadata": {},
   "outputs": [
    {
     "name": "stdout",
     "output_type": "stream",
     "text": [
      "Esperamos trabalhar no diretório\n",
      "C:\\Users\\Gustavo\\Desktop\\insper\\cd new\n"
     ]
    }
   ],
   "source": [
    "print('Esperamos trabalhar no diretório')\n",
    "print(os.getcwd())"
   ]
  },
  {
   "cell_type": "code",
   "execution_count": 18,
   "metadata": {
    "collapsed": true
   },
   "outputs": [],
   "source": [
    "#Se usar o arquivo descompactado\n",
    "info = pd.read_csv('PES2015.csv',sep=',')\n",
    "pd.options.mode.chained_assignment = None \n",
    "#Se usar o arquivo compactado como está no dropbox púbico\n",
    "#pd.read_csv('PES2015csv.zip', compression='zip', header=0, sep=',', quotechar='\"')\n"
   ]
  },
  {
   "cell_type": "code",
   "execution_count": 19,
   "metadata": {
    "collapsed": true
   },
   "outputs": [],
   "source": [
    "infoM = pd.DataFrame({\n",
    "    'regioes' : info.UF,\n",
    "    'começou_trabalhar' : info.V9891,\n",
    "    'rede_de_ensino' : info.V6002,\n",
    "    'renda' : info.V4750,\n",
    "    'anos_de_estudo' : info.V4803\n",
    "})\n"
   ]
  },
  {
   "cell_type": "markdown",
   "metadata": {},
   "source": [
    "# Filtros 1"
   ]
  },
  {
   "cell_type": "code",
   "execution_count": 20,
   "metadata": {
    "collapsed": true
   },
   "outputs": [],
   "source": [
    "pd.to_numeric(infoM.regioes)\n",
    "infoM.regioes[(infoM.regioes>=11) & (infoM.regioes<=17)] = [1]\n",
    "infoM.regioes[(infoM.regioes>=21) & (infoM.regioes<=29)] = [2]\n",
    "infoM.regioes[(infoM.regioes>=31) & (infoM.regioes<=35)] = [3]\n",
    "infoM.regioes[(infoM.regioes>=41) & (infoM.regioes<=43)] = [4]\n",
    "infoM.regioes[(infoM.regioes>=50) & (infoM.regioes<=53)] = [5]\n",
    "\n",
    "infoM = infoM[infoM.começou_trabalhar<=3]\n",
    "\n",
    "def quantidade(linha):\n",
    "    if linha==1:\n",
    "        return '5-9 anos'\n",
    "    if linha==2:\n",
    "        return '10-14 anos'\n",
    "    if linha==3:\n",
    "        return '15-17 anos'\n",
    "    \n",
    "infoM.começou_trabalhar=infoM.começou_trabalhar.apply(quantidade)\n",
    "\n",
    "infoM.regioes = infoM.regioes.astype('category')\n",
    "infoM.regioes.cat.categories = ('Norte','Nordeste','Sudeste','Sul','Centro-Oeste')\n"
   ]
  },
  {
   "cell_type": "markdown",
   "metadata": {
    "collapsed": true
   },
   "source": [
    "# Região do Brasil x Faixa de idade que começou a trabalhar\n",
    "\n",
    "A partir do grafico e da tabela mostrados nessa seção, gotaria de demonstrar como há uma discrepancia em relação ao trablaho infantil em cada região: visualmente é nitido que em algumas regiões esse tipo de ação é mais frequente, sendo eles no Nordeste e no Sudeste.\n",
    "http://noticias.r7.com/economia/noticias/criancas-do-pe-deixam-de-ir-a-escola-para-trabalhar-na-cata-de-mariscos-20101009.html"
   ]
  },
  {
   "cell_type": "code",
   "execution_count": 58,
   "metadata": {},
   "outputs": [
    {
     "data": {
      "text/plain": [
       "Text(0,0.5,'Porcentagem das pessoasa \\nque trabalham na faixa etaria')"
      ]
     },
     "execution_count": 58,
     "metadata": {},
     "output_type": "execute_result"
    },
    {
     "data": {
      "image/png": "[encoded data removed]",
      "text/plain": [
       "<matplotlib.figure.Figure at 0x14bb3063b00>"
      ]
     },
     "metadata": {},
     "output_type": "display_data"
    }
   ],
   "source": [
    "\n",
    "cross1 = pd.crosstab([infoM.regioes],[infoM.começou_trabalhar], normalize = \"index\")*100\n",
    "cross1.dropna()\n",
    "\n",
    "\n",
    "\n",
    "\n",
    "#s1 = cross1.sum()\n",
    "#cross1*100/s1\n",
    "#cross1 = (cross1/cross1.sum().sum()*100).round(decimals=5)\n",
    "cross1.plot(kind = 'bar',stacked=True, color = ('blue','red','black'))\n",
    "cross1.dropna()\n",
    "plt.title('Trabalho infantil no Brasil',loc = 'left')\n",
    "plt.legend(loc='upper center', bbox_to_anchor=(0.5, 1.00), ncol=3,fancybox=True, shadow=False)\n",
    "plt.ylabel('Porcentagem das pessoasa \\nque trabalham na faixa etaria')\n"
   ]
  },
  {
   "cell_type": "markdown",
   "metadata": {},
   "source": [
    "# Filtros 2"
   ]
  },
  {
   "cell_type": "code",
   "execution_count": 22,
   "metadata": {
    "collapsed": true
   },
   "outputs": [],
   "source": [
    "infoM = infoM[(infoM.rede_de_ensino==2) | (infoM.rede_de_ensino==4)]\n",
    "\n",
    "def rede(linha):\n",
    "    if linha==2:\n",
    "        return 'rede publica'\n",
    "    if linha==4:\n",
    "        return 'rede privada'\n",
    "infoM.rede_de_ensino=infoM.rede_de_ensino.apply(rede)\n",
    "    \n",
    "#infoM.rede_de_ensino.dropna()\n"
   ]
  },
  {
   "cell_type": "markdown",
   "metadata": {},
   "source": [
    "# Faixa de idade em que começou a trabalhar x Rede de ensino frequentada \n",
    "\n",
    "Com o grafico gerado gostaria de analisar se a rede de ensino influenciaria na idade em que o cidadão começa a trablhar, sendo entao nitido que: Sim, a rede de ensino influencia e muito, no grafico podemos ver que as crianças que trabalham e estudam em escola publica são praticamente o dobro ou ate mesmo o triplo das que trabalham e estudam em rede de ensino privado."
   ]
  },
  {
   "cell_type": "code",
   "execution_count": 33,
   "metadata": {},
   "outputs": [
    {
     "data": {
      "text/plain": [
       "<matplotlib.legend.Legend at 0x14bb3c11470>"
      ]
     },
     "execution_count": 33,
     "metadata": {},
     "output_type": "execute_result"
    },
    {
     "data": {
      "image/png": "[encoded data removed]",
      "text/plain": [
       "<matplotlib.figure.Figure at 0x14bb52421d0>"
      ]
     },
     "metadata": {},
     "output_type": "display_data"
    }
   ],
   "source": [
    "dr = pd.crosstab([infoM.começou_trabalhar],[infoM.rede_de_ensino],normalize = \"index\")*100\n",
    "dr\n",
    "\n",
    "\n",
    "dr.plot(kind = 'bar',stacked = True, color = ('blue','red'))\n",
    "plt.legend(loc='upper center', bbox_to_anchor=(0.69, 1.00), ncol=3,fancybox=True, shadow=False)\n",
    "\n"
   ]
  },
  {
   "cell_type": "markdown",
   "metadata": {},
   "source": [
    "# Filtro 3"
   ]
  },
  {
   "cell_type": "code",
   "execution_count": 38,
   "metadata": {},
   "outputs": [
    {
     "name": "stdout",
     "output_type": "stream",
     "text": [
      "88.88277448185009\n"
     ]
    }
   ],
   "source": [
    "infoM = infoM[infoM.renda<=6500]\n",
    "x = infoM.renda\n",
    "\n",
    "media = 3933/1958**(1/2)\n",
    "print(media)\n",
    "faixa=np.arange(0,3933.0,89)"
   ]
  },
  {
   "cell_type": "markdown",
   "metadata": {},
   "source": [
    "# Começou a trabalhar x Renda\n",
    "\n",
    "A partir das informações geradas, pretendo demosntrar como a renda familiar per capita de um cidadão influencia diretamente na idade em que o mesmo começaria a trablhar, sendo estabelecido um teto salarial de 6500 reais e idade de trabalho de 5-18 anos de idade "
   ]
  },
  {
   "cell_type": "code",
   "execution_count": 57,
   "metadata": {
    "scrolled": true
   },
   "outputs": [
    {
     "data": {
      "image/png": "[encoded data removed]",
      "text/plain": [
       "<matplotlib.figure.Figure at 0x14bba4a5f98>"
      ]
     },
     "metadata": {},
     "output_type": "display_data"
    }
   ],
   "source": [
    "dr2 = pd.crosstab([infoM.começou_trabalhar],[infoM.renda])\n",
    "plt.subplot(231)\n",
    "pt1 = infoM.renda[infoM.começou_trabalhar=='5-9 anos'].plot.hist(bins=faixa,title='Começou a trabalhar x renda \\nde-5-9 anos',normed=1,alpha=0.5,figsize = (14,10) )\n",
    "plt.subplot(232)\n",
    "pt2 = infoM.renda[infoM.começou_trabalhar=='10-14 anos'].plot.hist(bins=faixa,title='Começou a trabalhar x renda \\nde-10-14 anos',normed=1,alpha=0.5,figsize = (16,10))\n",
    "plt.subplot(233)\n",
    "pt3 = infoM.renda[infoM.começou_trabalhar=='15-17 anos'].plot.hist(bins=faixa,title='Começou a trbalhar x renda \\nde-15-17 anos',normed=1,alpha=0.5,figsize = (18,10))"
   ]
  },
  {
   "cell_type": "code",
   "execution_count": null,
   "metadata": {},
   "outputs": [],
   "source": []
  },
  {
   "cell_type": "markdown",
   "metadata": {},
   "source": [
    "# Filtro 4 "
   ]
  },
  {
   "cell_type": "code",
   "execution_count": 26,
   "metadata": {
    "collapsed": true
   },
   "outputs": [],
   "source": [
    "infoM = infoM[infoM.anos_de_estudo<=7]\n",
    "\n",
    "def anos(linha):\n",
    "    if linha==1:\n",
    "        return 'sem instrução'\n",
    "    if linha==2:\n",
    "        return '1 ano'\n",
    "    if linha==3:\n",
    "        return '2 anos'\n",
    "    if linha==4:\n",
    "        return '3 anos'\n",
    "    if linha==5:\n",
    "        return '4 anos'\n",
    "    if linha==6:\n",
    "        return '5 anos'\n",
    "    if linha==7:\n",
    "        return '6 anos'\n",
    "    \n",
    "    \n",
    "infoM.anos_de_estudo=infoM.anos_de_estudo.apply(anos)\n"
   ]
  },
  {
   "cell_type": "markdown",
   "metadata": {},
   "source": [
    "# Idade em que começou a trabalhar x anos de escolaridade\n",
    "\n",
    "A partir do grafico gerado, é desejado que o observador consiga analisar e deduzir um fato que seria o de que crianças que começam a trablhar mais cedo tendem a ir menos as escolas"
   ]
  },
  {
   "cell_type": "code",
   "execution_count": 32,
   "metadata": {},
   "outputs": [
    {
     "data": {
      "text/plain": [
       "<matplotlib.axes._subplots.AxesSubplot at 0x14bb5010d68>"
      ]
     },
     "execution_count": 32,
     "metadata": {},
     "output_type": "execute_result"
    },
    {
     "data": {
      "image/png": "[encoded data removed]",
      "text/plain": [
       "<matplotlib.figure.Figure at 0x14bb3c30630>"
      ]
     },
     "metadata": {},
     "output_type": "display_data"
    }
   ],
   "source": [
    "dr3 = pd.crosstab([infoM.começou_trabalhar],[infoM.anos_de_estudo],normalize = \"index\")*100\n",
    "\n",
    "dr3.plot(kind = 'bar', stacked = True,color = ('blue','red','black','purple','green','pink','yellow'))\n"
   ]
  },
  {
   "cell_type": "markdown",
   "metadata": {},
   "source": [
    "# Tabela de analise geral dos dados"
   ]
  },
  {
   "cell_type": "code",
   "execution_count": 28,
   "metadata": {
    "scrolled": false
   },
   "outputs": [
    {
     "data": {
      "text/html": [
       "<div>\n",
       "<style>\n",
       "    .dataframe thead tr:only-child th {\n",
       "        text-align: right;\n",
       "    }\n",
       "\n",
       "    .dataframe thead th {\n",
       "        text-align: left;\n",
       "    }\n",
       "\n",
       "    .dataframe tbody tr th {\n",
       "        vertical-align: top;\n",
       "    }\n",
       "</style>\n",
       "<table border=\"1\" class=\"dataframe\">\n",
       "  <thead>\n",
       "    <tr style=\"text-align: right;\">\n",
       "      <th></th>\n",
       "      <th>anos_de_estudo</th>\n",
       "      <th>começou_trabalhar</th>\n",
       "      <th>rede_de_ensino</th>\n",
       "      <th>regioes</th>\n",
       "      <th>renda</th>\n",
       "    </tr>\n",
       "  </thead>\n",
       "  <tbody>\n",
       "    <tr>\n",
       "      <th>53</th>\n",
       "      <td>5 anos</td>\n",
       "      <td>10-14 anos</td>\n",
       "      <td>rede publica</td>\n",
       "      <td>Norte</td>\n",
       "      <td>700.0</td>\n",
       "    </tr>\n",
       "    <tr>\n",
       "      <th>153</th>\n",
       "      <td>5 anos</td>\n",
       "      <td>15-17 anos</td>\n",
       "      <td>rede publica</td>\n",
       "      <td>Norte</td>\n",
       "      <td>300.0</td>\n",
       "    </tr>\n",
       "    <tr>\n",
       "      <th>181</th>\n",
       "      <td>3 anos</td>\n",
       "      <td>10-14 anos</td>\n",
       "      <td>rede publica</td>\n",
       "      <td>Norte</td>\n",
       "      <td>425.0</td>\n",
       "    </tr>\n",
       "    <tr>\n",
       "      <th>242</th>\n",
       "      <td>3 anos</td>\n",
       "      <td>10-14 anos</td>\n",
       "      <td>rede publica</td>\n",
       "      <td>Norte</td>\n",
       "      <td>409.0</td>\n",
       "    </tr>\n",
       "    <tr>\n",
       "      <th>361</th>\n",
       "      <td>4 anos</td>\n",
       "      <td>10-14 anos</td>\n",
       "      <td>rede publica</td>\n",
       "      <td>Norte</td>\n",
       "      <td>241.0</td>\n",
       "    </tr>\n",
       "  </tbody>\n",
       "</table>\n",
       "</div>"
      ],
      "text/plain": [
       "    anos_de_estudo começou_trabalhar rede_de_ensino regioes  renda\n",
       "53          5 anos        10-14 anos   rede publica   Norte  700.0\n",
       "153         5 anos        15-17 anos   rede publica   Norte  300.0\n",
       "181         3 anos        10-14 anos   rede publica   Norte  425.0\n",
       "242         3 anos        10-14 anos   rede publica   Norte  409.0\n",
       "361         4 anos        10-14 anos   rede publica   Norte  241.0"
      ]
     },
     "execution_count": 28,
     "metadata": {},
     "output_type": "execute_result"
    }
   ],
   "source": [
    "infoM.head()"
   ]
  },
  {
   "cell_type": "code",
   "execution_count": 29,
   "metadata": {
    "collapsed": true
   },
   "outputs": [],
   "source": [
    "#Fazer grafico de renda em relação idade em que começou a trabalhar + grafico de pizza anos de estudo em relação a idade em que começou a \n",
    "#trabalhar\n",
    "#tabela de Dados gerais"
   ]
  },
  {
   "cell_type": "markdown",
   "metadata": {},
   "source": [
    "___\n",
    "## Análise e Resultados"
   ]
  },
  {
   "cell_type": "code",
   "execution_count": null,
   "metadata": {
    "collapsed": true
   },
   "outputs": [],
   "source": []
  },
  {
   "cell_type": "code",
   "execution_count": null,
   "metadata": {
    "collapsed": true
   },
   "outputs": [],
   "source": []
  },
  {
   "cell_type": "markdown",
   "metadata": {},
   "source": [
    "___\n",
    "## Conclusão "
   ]
  },
  {
   "cell_type": "markdown",
   "metadata": {
    "collapsed": true
   },
   "source": [
    "Descreva aqui suas conclusões!"
   ]
  },
  {
   "cell_type": "code",
   "execution_count": null,
   "metadata": {
    "collapsed": true
   },
   "outputs": [],
   "source": []
  }
 ],
 "metadata": {
  "anaconda-cloud": {},
  "kernelspec": {
   "display_name": "Python 3",
   "language": "python",
   "name": "python3"
  },
  "language_info": {
   "codemirror_mode": {
    "name": "ipython",
    "version": 3
   },
   "file_extension": ".py",
   "mimetype": "text/x-python",
   "name": "python",
   "nbconvert_exporter": "python",
   "pygments_lexer": "ipython3",
   "version": "3.6.3"
  }
 },
 "nbformat": 4,
 "nbformat_minor": 1
}
