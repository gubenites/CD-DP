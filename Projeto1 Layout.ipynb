{
 "cells": [
  {
   "cell_type": "markdown",
   "metadata": {},
   "source": [
    "___\n",
    "# Ciência dos Dados - PROJETO 1"
   ]
  },
  {
   "cell_type": "markdown",
   "metadata": {},
   "source": [
    "## COLOQUE AQUI SEU NOME\n",
    "___"
   ]
  },
  {
   "cell_type": "markdown",
   "metadata": {},
   "source": [
    "## TÍTULO DO SEU PROJETO"
   ]
  },
  {
   "cell_type": "markdown",
   "metadata": {},
   "source": [
    "___\n",
    "## Introdução\n",
    "\n",
    "Descreva aqui o que pretende analisar!\n",
    "\n",
    "Capriche no português!! \n",
    "Se quiser pode utilizar pesquisas semelhantes publicadas em sites confiáveis!!\n"
   ]
  },
  {
   "cell_type": "markdown",
   "metadata": {},
   "source": [
    "___\n",
    "## Filtros da base de dados"
   ]
  },
  {
   "cell_type": "code",
   "execution_count": 67,
   "metadata": {
    "collapsed": true
   },
   "outputs": [],
   "source": [
    "%matplotlib inline\n",
    "import pandas as pd\n",
    "import matplotlib.pyplot as plt\n",
    "import numpy as np\n",
    "import os"
   ]
  },
  {
   "cell_type": "code",
   "execution_count": 68,
   "metadata": {},
   "outputs": [
    {
     "name": "stdout",
     "output_type": "stream",
     "text": [
      "Esperamos trabalhar no diretório\n",
      "C:\\Users\\Gustavo\\Desktop\\insper\\cd new\n"
     ]
    }
   ],
   "source": [
    "print('Esperamos trabalhar no diretório')\n",
    "print(os.getcwd())"
   ]
  },
  {
   "cell_type": "code",
   "execution_count": 69,
   "metadata": {},
   "outputs": [],
   "source": [
    "#Se usar o arquivo descompactado\n",
    "dados = pd.read_csv('PES2015.csv',sep=',')\n",
    "pd.options.mode.chained_assignment = None \n",
    "#Se usar o arquivo compactado como está no dropbox púbico\n",
    "#pd.read_csv('PES2015csv.zip', compression='zip', header=0, sep=',', quotechar='\"')"
   ]
  },
  {
   "cell_type": "code",
   "execution_count": 70,
   "metadata": {},
   "outputs": [
    {
     "data": {
      "text/html": [
       "<div>\n",
       "<style>\n",
       "    .dataframe thead tr:only-child th {\n",
       "        text-align: right;\n",
       "    }\n",
       "\n",
       "    .dataframe thead th {\n",
       "        text-align: left;\n",
       "    }\n",
       "\n",
       "    .dataframe tbody tr th {\n",
       "        vertical-align: top;\n",
       "    }\n",
       "</style>\n",
       "<table border=\"1\" class=\"dataframe\">\n",
       "  <thead>\n",
       "    <tr style=\"text-align: right;\">\n",
       "      <th>V9891</th>\n",
       "      <th>Até 9 anos</th>\n",
       "      <th>10 a 14 anos</th>\n",
       "      <th>14 a 17 anos</th>\n",
       "      <th>a</th>\n",
       "      <th>b</th>\n",
       "      <th>c</th>\n",
       "      <th>d</th>\n",
       "    </tr>\n",
       "    <tr>\n",
       "      <th>UF</th>\n",
       "      <th></th>\n",
       "      <th></th>\n",
       "      <th></th>\n",
       "      <th></th>\n",
       "      <th></th>\n",
       "      <th></th>\n",
       "      <th></th>\n",
       "    </tr>\n",
       "  </thead>\n",
       "  <tbody>\n",
       "    <tr>\n",
       "      <th>Norte</th>\n",
       "      <td>1.45526</td>\n",
       "      <td>5.24548</td>\n",
       "      <td>3.89088</td>\n",
       "      <td>2.53738</td>\n",
       "      <td>1.29844</td>\n",
       "      <td>0.24523</td>\n",
       "      <td>0.13290</td>\n",
       "    </tr>\n",
       "    <tr>\n",
       "      <th>Nordeste</th>\n",
       "      <td>2.70532</td>\n",
       "      <td>9.20587</td>\n",
       "      <td>6.86533</td>\n",
       "      <td>4.83176</td>\n",
       "      <td>2.71866</td>\n",
       "      <td>0.53550</td>\n",
       "      <td>0.24579</td>\n",
       "    </tr>\n",
       "    <tr>\n",
       "      <th>Suldeste</th>\n",
       "      <td>2.18316</td>\n",
       "      <td>9.56120</td>\n",
       "      <td>9.78530</td>\n",
       "      <td>5.86662</td>\n",
       "      <td>2.49846</td>\n",
       "      <td>0.42818</td>\n",
       "      <td>0.21465</td>\n",
       "    </tr>\n",
       "    <tr>\n",
       "      <th>Sul</th>\n",
       "      <td>1.48695</td>\n",
       "      <td>5.88553</td>\n",
       "      <td>5.44734</td>\n",
       "      <td>2.39503</td>\n",
       "      <td>1.04487</td>\n",
       "      <td>0.20408</td>\n",
       "      <td>0.11455</td>\n",
       "    </tr>\n",
       "    <tr>\n",
       "      <th>Centro-Oeste</th>\n",
       "      <td>1.19724</td>\n",
       "      <td>3.79690</td>\n",
       "      <td>3.28920</td>\n",
       "      <td>1.69214</td>\n",
       "      <td>0.77350</td>\n",
       "      <td>0.15292</td>\n",
       "      <td>0.06840</td>\n",
       "    </tr>\n",
       "  </tbody>\n",
       "</table>\n",
       "</div>"
      ],
      "text/plain": [
       "V9891         Até 9 anos  10 a 14 anos  14 a 17 anos        a        b  \\\n",
       "UF                                                                       \n",
       "Norte            1.45526       5.24548       3.89088  2.53738  1.29844   \n",
       "Nordeste         2.70532       9.20587       6.86533  4.83176  2.71866   \n",
       "Suldeste         2.18316       9.56120       9.78530  5.86662  2.49846   \n",
       "Sul              1.48695       5.88553       5.44734  2.39503  1.04487   \n",
       "Centro-Oeste     1.19724       3.79690       3.28920  1.69214  0.77350   \n",
       "\n",
       "V9891               c        d  \n",
       "UF                              \n",
       "Norte         0.24523  0.13290  \n",
       "Nordeste      0.53550  0.24579  \n",
       "Suldeste      0.42818  0.21465  \n",
       "Sul           0.20408  0.11455  \n",
       "Centro-Oeste  0.15292  0.06840  "
      ]
     },
     "execution_count": 70,
     "metadata": {},
     "output_type": "execute_result"
    },
    {
     "data": {
      "image/png": "[encoded data removed]",
      "text/plain": [
       "<matplotlib.figure.Figure at 0x18687dc4518>"
      ]
     },
     "metadata": {},
     "output_type": "display_data"
    }
   ],
   "source": [
    "pd.to_numeric(dados.UF)\n",
    "dados.UF[(dados.UF>=11) & (dados.UF<=17)] = [10]\n",
    "dados.UF[(dados.UF>=21) & (dados.UF<=29)] = [20]\n",
    "dados.UF[(dados.UF>=31) & (dados.UF<=35)] = [30]\n",
    "dados.UF[(dados.UF>=41) & (dados.UF<=43)] = [40]\n",
    "dados.UF[(dados.UF>=50) & (dados.UF<=53)] = [50]\n",
    "\n",
    "pd.to_numeric(dados.V9891)\n",
    "dados.V9891[dados.V9891==1] = [10]\n",
    "dados.V9891[dados.V9891==2] = [20]\n",
    "dados.V9891[dados.V9891==3] = [30]\n",
    "dados.V9891[dados.V9891==4] = [40]\n",
    "dados.V9891[dados.V9891==5] = [50]\n",
    "dados.V9891[dados.V9891==6] = [60]\n",
    "dados.V9891[dados.V9891==7] = [70]\n",
    "\n",
    "\n",
    "dados.UF = dados.UF.astype('category')\n",
    "dados.UF.cat.categories = ('Norte','Nordeste','Suldeste','Sul','Centro-Oeste')\n",
    "\n",
    "dados.V9891 = dados.V9891.astype('category')\n",
    "dados.V9891.cat.categories = ('Até 9 anos','10 a 14 anos','14 a 17 anos','a','b','c','d')\n",
    "\n",
    "ct = pd.crosstab([dados.UF],[dados.V9891], normalize = True)\n",
    "ct.dropna()\n",
    "soma = ct.sum().sum()\n",
    "ct*100/soma\n",
    "ct = (ct/ct.sum().sum()*100).round(decimals=5)\n",
    "ct.plot(kind = 'bar', color = ('blue','red','black','white','white','white','white'))\n",
    "plt.title('Trabalho infantil no Brasil')\n",
    "#plt.ylabel('quantidade de pessoas em milhares')\n",
    "ct"
   ]
  },
  {
   "cell_type": "code",
   "execution_count": 76,
   "metadata": {},
   "outputs": [
    {
     "data": {
      "text/html": [
       "<div>\n",
       "<style>\n",
       "    .dataframe thead tr:only-child th {\n",
       "        text-align: right;\n",
       "    }\n",
       "\n",
       "    .dataframe thead th {\n",
       "        text-align: left;\n",
       "    }\n",
       "\n",
       "    .dataframe tbody tr th {\n",
       "        vertical-align: top;\n",
       "    }\n",
       "</style>\n",
       "<table border=\"1\" class=\"dataframe\">\n",
       "  <thead>\n",
       "    <tr style=\"text-align: right;\">\n",
       "      <th>V4707</th>\n",
       "      <th>1.0</th>\n",
       "      <th>2.0</th>\n",
       "      <th>3.0</th>\n",
       "      <th>4.0</th>\n",
       "      <th>5.0</th>\n",
       "    </tr>\n",
       "    <tr>\n",
       "      <th>UF</th>\n",
       "      <th></th>\n",
       "      <th></th>\n",
       "      <th></th>\n",
       "      <th></th>\n",
       "      <th></th>\n",
       "    </tr>\n",
       "  </thead>\n",
       "  <tbody>\n",
       "    <tr>\n",
       "      <th>Norte</th>\n",
       "      <td>0.009819</td>\n",
       "      <td>0.041358</td>\n",
       "      <td>0.065808</td>\n",
       "      <td>0.017095</td>\n",
       "      <td>0.015321</td>\n",
       "    </tr>\n",
       "    <tr>\n",
       "      <th>Nordeste</th>\n",
       "      <td>0.022126</td>\n",
       "      <td>0.074010</td>\n",
       "      <td>0.113982</td>\n",
       "      <td>0.030837</td>\n",
       "      <td>0.026212</td>\n",
       "    </tr>\n",
       "    <tr>\n",
       "      <th>Suldeste</th>\n",
       "      <td>0.017561</td>\n",
       "      <td>0.057872</td>\n",
       "      <td>0.150212</td>\n",
       "      <td>0.041182</td>\n",
       "      <td>0.037750</td>\n",
       "    </tr>\n",
       "    <tr>\n",
       "      <th>Sul</th>\n",
       "      <td>0.008729</td>\n",
       "      <td>0.030056</td>\n",
       "      <td>0.090851</td>\n",
       "      <td>0.015891</td>\n",
       "      <td>0.022446</td>\n",
       "    </tr>\n",
       "    <tr>\n",
       "      <th>Centro-Oeste</th>\n",
       "      <td>0.006193</td>\n",
       "      <td>0.021466</td>\n",
       "      <td>0.057121</td>\n",
       "      <td>0.013239</td>\n",
       "      <td>0.012864</td>\n",
       "    </tr>\n",
       "  </tbody>\n",
       "</table>\n",
       "</div>"
      ],
      "text/plain": [
       "V4707              1.0       2.0       3.0       4.0       5.0\n",
       "UF                                                            \n",
       "Norte         0.009819  0.041358  0.065808  0.017095  0.015321\n",
       "Nordeste      0.022126  0.074010  0.113982  0.030837  0.026212\n",
       "Suldeste      0.017561  0.057872  0.150212  0.041182  0.037750\n",
       "Sul           0.008729  0.030056  0.090851  0.015891  0.022446\n",
       "Centro-Oeste  0.006193  0.021466  0.057121  0.013239  0.012864"
      ]
     },
     "execution_count": 76,
     "metadata": {},
     "output_type": "execute_result"
    }
   ],
   "source": [
    "dr = pd.crosstab([dados.UF],[dados.V4707],normalize = True)\n",
    "dr.dropna()\n",
    "dr\n"
   ]
  },
  {
   "cell_type": "code",
   "execution_count": null,
   "metadata": {
    "collapsed": true
   },
   "outputs": [],
   "source": []
  },
  {
   "cell_type": "markdown",
   "metadata": {},
   "source": [
    "___\n",
    "## Análise e Resultados"
   ]
  },
  {
   "cell_type": "code",
   "execution_count": null,
   "metadata": {
    "collapsed": true
   },
   "outputs": [],
   "source": []
  },
  {
   "cell_type": "code",
   "execution_count": null,
   "metadata": {
    "collapsed": true
   },
   "outputs": [],
   "source": []
  },
  {
   "cell_type": "markdown",
   "metadata": {},
   "source": [
    "___\n",
    "## Conclusão "
   ]
  },
  {
   "cell_type": "markdown",
   "metadata": {
    "collapsed": true
   },
   "source": [
    "Descreva aqui suas conclusões!"
   ]
  },
  {
   "cell_type": "code",
   "execution_count": null,
   "metadata": {
    "collapsed": true
   },
   "outputs": [],
   "source": []
  }
 ],
 "metadata": {
  "anaconda-cloud": {},
  "kernelspec": {
   "display_name": "Python 3",
   "language": "python",
   "name": "python3"
  },
  "language_info": {
   "codemirror_mode": {
    "name": "ipython",
    "version": 3
   },
   "file_extension": ".py",
   "mimetype": "text/x-python",
   "name": "python",
   "nbconvert_exporter": "python",
   "pygments_lexer": "ipython3",
   "version": "3.6.3"
  }
 },
 "nbformat": 4,
 "nbformat_minor": 1
}
